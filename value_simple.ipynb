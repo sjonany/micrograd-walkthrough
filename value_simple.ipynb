{
 "cells": [
  {
   "cell_type": "code",
   "execution_count": 1,
   "id": "3b67b896",
   "metadata": {},
   "outputs": [],
   "source": [
    "from micrograd.engine import Value\n",
    "\n",
    "a = Value(2, 'a')\n",
    "b = Value(-3, 'b')\n",
    "c = Value(10, 'c')\n",
    "e = a*b\n",
    "d = e+c\n",
    "f = Value(-2, 'f')\n",
    "L = d * f"
   ]
  },
  {
   "cell_type": "code",
   "execution_count": 2,
   "id": "67b72703",
   "metadata": {},
   "outputs": [
    {
     "data": {
      "text/plain": [
       "a : 2"
      ]
     },
     "execution_count": 2,
     "metadata": {},
     "output_type": "execute_result"
    }
   ],
   "source": [
    "a"
   ]
  },
  {
   "cell_type": "code",
   "execution_count": 3,
   "id": "299f32e3",
   "metadata": {},
   "outputs": [
    {
     "data": {
      "text/plain": [
       "((a * b) + c) : 4"
      ]
     },
     "execution_count": 3,
     "metadata": {},
     "output_type": "execute_result"
    }
   ],
   "source": [
    "d"
   ]
  },
  {
   "cell_type": "code",
   "execution_count": 4,
   "id": "322bb4af",
   "metadata": {},
   "outputs": [
    {
     "data": {
      "text/plain": [
       "(((a * b) + c) * f) : -8"
      ]
     },
     "execution_count": 4,
     "metadata": {},
     "output_type": "execute_result"
    }
   ],
   "source": [
    "L"
   ]
  },
  {
   "cell_type": "code",
   "execution_count": null,
   "id": "b284d173",
   "metadata": {},
   "outputs": [],
   "source": []
  }
 ],
 "metadata": {
  "kernelspec": {
   "display_name": "Python 3 (ipykernel)",
   "language": "python",
   "name": "python3"
  },
  "language_info": {
   "codemirror_mode": {
    "name": "ipython",
    "version": 3
   },
   "file_extension": ".py",
   "mimetype": "text/x-python",
   "name": "python",
   "nbconvert_exporter": "python",
   "pygments_lexer": "ipython3",
   "version": "3.11.4"
  }
 },
 "nbformat": 4,
 "nbformat_minor": 5
}
